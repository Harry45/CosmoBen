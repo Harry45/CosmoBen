{
 "cells": [
  {
   "cell_type": "code",
   "execution_count": 1,
   "id": "586d6d08-8734-4877-9ef5-195f04def788",
   "metadata": {
    "execution": {
     "iopub.execute_input": "2024-08-15T21:55:01.547512Z",
     "iopub.status.busy": "2024-08-15T21:55:01.547238Z",
     "iopub.status.idle": "2024-08-15T21:55:03.422817Z",
     "shell.execute_reply": "2024-08-15T21:55:03.422233Z",
     "shell.execute_reply.started": "2024-08-15T21:55:01.547497Z"
    }
   },
   "outputs": [],
   "source": [
    "import numpy as np \n",
    "import pandas as pd\n",
    "import matplotlib.pylab as plt \n",
    "import jax.numpy as jnp \n",
    "# import numpyro \n",
    "# from getdist import plots, MCSamples\n",
    "# import getdist\n",
    "import glob\n",
    "import astropy.units as u\n",
    "import astropy.constants as con\n",
    "from scipy.integrate import quad\n",
    "import numpyro\n",
    "import numpyro.distributions as dist\n",
    "from numpyro.infer import MCMC, NUTS, init_to_median"
   ]
  },
  {
   "cell_type": "code",
   "execution_count": 2,
   "id": "07342bcf-efea-467e-b7c6-8bd8c5233c0c",
   "metadata": {
    "execution": {
     "iopub.execute_input": "2024-08-15T21:55:03.423930Z",
     "iopub.status.busy": "2024-08-15T21:55:03.423560Z",
     "iopub.status.idle": "2024-08-15T21:55:03.459627Z",
     "shell.execute_reply": "2024-08-15T21:55:03.459097Z",
     "shell.execute_reply.started": "2024-08-15T21:55:03.423913Z"
    }
   },
   "outputs": [],
   "source": [
    "data = pd.read_csv(\"data/jla_lcparams.txt\", sep=\" \", header=0)\n",
    "covariance = np.load(\"data/covariance.npz\")['arr_0'] "
   ]
  },
  {
   "cell_type": "code",
   "execution_count": 3,
   "id": "6bc28ef5-89c3-4a93-a1cb-5073b59867e0",
   "metadata": {
    "execution": {
     "iopub.execute_input": "2024-08-15T21:55:03.460773Z",
     "iopub.status.busy": "2024-08-15T21:55:03.460386Z",
     "iopub.status.idle": "2024-08-15T21:55:03.465430Z",
     "shell.execute_reply": "2024-08-15T21:55:03.464980Z",
     "shell.execute_reply.started": "2024-08-15T21:55:03.460756Z"
    }
   },
   "outputs": [],
   "source": [
    "columns = ['zcmb', 'mb', 'dmb', '3rdvar', 'x1', 'color']\n",
    "data_filtered = data[columns]\n",
    "data_filtered.columns = ['z', 'mb', 'delta_M', 'M_stel', 'X1', 'C']\n",
    "inputs = data_filtered[[\"z\", \"M_stel\", \"X1\", \"C\"]].values"
   ]
  },
  {
   "cell_type": "code",
   "execution_count": 4,
   "id": "99558554-9b2a-4200-b8fa-9d138e5f9f0f",
   "metadata": {
    "execution": {
     "iopub.execute_input": "2024-08-15T21:55:03.466262Z",
     "iopub.status.busy": "2024-08-15T21:55:03.466076Z",
     "iopub.status.idle": "2024-08-15T21:55:03.482453Z",
     "shell.execute_reply": "2024-08-15T21:55:03.481914Z",
     "shell.execute_reply.started": "2024-08-15T21:55:03.466249Z"
    }
   },
   "outputs": [],
   "source": [
    "zs = data_filtered['z']\n",
    "mb = data_filtered['mb']\n",
    "delta_M = data_filtered['delta_M']\n",
    "M_stel = data_filtered['M_stel']\n",
    "X1 = data_filtered['X1']\n",
    "C = data_filtered['C']\n",
    "\n",
    "#mb is peak magnitude\n",
    "#zcmb is redshift\n",
    "#3rdvar is log10 host stellar mass\n",
    "#x1 is SALT2 shape parameter\n",
    "#color is color parameter"
   ]
  },
  {
   "cell_type": "code",
   "execution_count": 5,
   "id": "ccec9300-837b-438f-af8c-8c796b9ef26f",
   "metadata": {
    "execution": {
     "iopub.execute_input": "2024-08-15T21:55:03.483502Z",
     "iopub.status.busy": "2024-08-15T21:55:03.483262Z",
     "iopub.status.idle": "2024-08-15T21:55:03.497363Z",
     "shell.execute_reply": "2024-08-15T21:55:03.496675Z",
     "shell.execute_reply.started": "2024-08-15T21:55:03.483482Z"
    }
   },
   "outputs": [],
   "source": [
    "# z_arr = np.asarray(data_filtered['z'])\n",
    "# mb_arr = np.asarray(mb)\n",
    "# delta_M_arr = np.asarray(delta_M)\n",
    "# Mstel_arr = np.asarray(M_stel)*10**10\n",
    "# X1_arr = np.asarray(X1)\n",
    "# C_arr = np.asarray(C)"
   ]
  },
  {
   "cell_type": "code",
   "execution_count": 6,
   "id": "9c5abe85-2fd2-4620-aaa5-9cd772d0b115",
   "metadata": {
    "execution": {
     "iopub.execute_input": "2024-08-15T21:55:03.499135Z",
     "iopub.status.busy": "2024-08-15T21:55:03.498637Z",
     "iopub.status.idle": "2024-08-15T21:55:03.511775Z",
     "shell.execute_reply": "2024-08-15T21:55:03.511233Z",
     "shell.execute_reply.started": "2024-08-15T21:55:03.499107Z"
    }
   },
   "outputs": [],
   "source": [
    "# If M_Stel is greater than 10^10 Msun, then the Heaviside function is 1.\n",
    "# If M_stel is less than 10^10 Msun, then it's 0."
   ]
  },
  {
   "cell_type": "code",
   "execution_count": 7,
   "id": "7cc1944a-8d4c-4223-93bd-5c8c84c4f3dc",
   "metadata": {
    "execution": {
     "iopub.execute_input": "2024-08-15T21:55:03.513029Z",
     "iopub.status.busy": "2024-08-15T21:55:03.512645Z",
     "iopub.status.idle": "2024-08-15T21:55:03.525704Z",
     "shell.execute_reply": "2024-08-15T21:55:03.525142Z",
     "shell.execute_reply.started": "2024-08-15T21:55:03.513007Z"
    }
   },
   "outputs": [],
   "source": [
    "def heavyside(M_stel):\n",
    "    SM10 = 10\n",
    "    return jnp.where(M_stel<SM10,0,1)\n",
    "\n",
    "def absfunc(M_stel, hev_f, M_B, delta_m):\n",
    "    #modified_M_B = M_B + delta_m * (M_stel - SM10)\n",
    "    #modified_M_B = M_B + delta_m * (M_stel.to(u.Msun).value - SM10.value)\n",
    "    return modified_M_B"
   ]
  },
  {
   "cell_type": "code",
   "execution_count": 8,
   "id": "6e338ce1-c7bb-491a-8386-bc2dc16e580f",
   "metadata": {
    "execution": {
     "iopub.execute_input": "2024-08-15T21:55:03.526948Z",
     "iopub.status.busy": "2024-08-15T21:55:03.526530Z",
     "iopub.status.idle": "2024-08-15T21:55:03.542640Z",
     "shell.execute_reply": "2024-08-15T21:55:03.542072Z",
     "shell.execute_reply.started": "2024-08-15T21:55:03.526924Z"
    }
   },
   "outputs": [],
   "source": [
    "def hgalaxy(M_stel,M_B, delta_m):\n",
    "    SM10=10**10\n",
    "    #The absolute magnitude is dependent on properties of the hgalaxy\n",
    "    hev_f=heavyside(M_stel)\n",
    "    absmag = M_B + delta_m * hev_f \n",
    "    return absmag"
   ]
  },
  {
   "cell_type": "code",
   "execution_count": 9,
   "id": "80e9f36a-b133-4e05-aad7-6328e06eeba5",
   "metadata": {
    "execution": {
     "iopub.execute_input": "2024-08-15T21:55:03.543839Z",
     "iopub.status.busy": "2024-08-15T21:55:03.543458Z",
     "iopub.status.idle": "2024-08-15T21:55:03.558517Z",
     "shell.execute_reply": "2024-08-15T21:55:03.557994Z",
     "shell.execute_reply.started": "2024-08-15T21:55:03.543817Z"
    }
   },
   "outputs": [],
   "source": [
    "def integrand(z,Om_m, w0):\n",
    "        p1 = (1 + z)**3\n",
    "        p2 = (1 - Om_m)\n",
    "        p3 = (Om_m * p1) + p2 * (p1)**(3*(w0 + 1))\n",
    "        squared = jnp.sqrt(p3)\n",
    "        return 1 / squared   #returns the value of the integrand\n",
    "    \n",
    "def D_L(z,Om_m=0.315,w0=-1,H0=70,num=800):\n",
    "    coeff=10**5 * (1.0 + z) * 299792.458 / H0\n",
    "    \n",
    "    z1 = jnp.linspace(0, z, num=num)\n",
    "    y = integrand(z1,Om_m,w0)\n",
    "    \n",
    "    integral=jnp.trapezoid(y, z1)\n",
    "    return coeff*integral"
   ]
  },
  {
   "cell_type": "code",
   "execution_count": 10,
   "id": "32c17987-aa52-4a0e-8259-122d33aa1568",
   "metadata": {
    "execution": {
     "iopub.execute_input": "2024-08-15T21:55:03.559314Z",
     "iopub.status.busy": "2024-08-15T21:55:03.559139Z",
     "iopub.status.idle": "2024-08-15T21:55:03.572341Z",
     "shell.execute_reply": "2024-08-15T21:55:03.571886Z",
     "shell.execute_reply.started": "2024-08-15T21:55:03.559301Z"
    }
   },
   "outputs": [],
   "source": [
    "def main(Om_m, z, w0, M_B, M_stel, delta_m, alpha, beta, X1, C):  #Making a function that takes in values for these parameters\n",
    "\n",
    "    Lum_dist = D_L(z,Om_m, w0) #Using Luminosity distance function in main, which uses integrand inside\n",
    "\n",
    "    hev_f=heavyside(M_stel)\n",
    "    pt1 = 5*jnp.log10((Lum_dist)/10)      #5log10D*L/10pc\n",
    "    pt2 = hgalaxy(M_stel, M_B, delta_m)         #This should give the return of absfunc which is modified_M_B\n",
    "    # pt3 = ((alpha * X1) + (beta * C))                  #Last part of the equation\n",
    "    \n",
    "    app_mag = pt1 + pt2 - (alpha*X1) +(beta*C)    #Putting it all together\n",
    "    \n",
    "    return app_mag"
   ]
  },
  {
   "cell_type": "code",
   "execution_count": 11,
   "id": "026ddd0b-31f0-4083-a05c-01f1c92cfa3e",
   "metadata": {
    "execution": {
     "iopub.execute_input": "2024-08-15T21:55:03.573174Z",
     "iopub.status.busy": "2024-08-15T21:55:03.572987Z",
     "iopub.status.idle": "2024-08-15T21:55:03.586544Z",
     "shell.execute_reply": "2024-08-15T21:55:03.586086Z",
     "shell.execute_reply.started": "2024-08-15T21:55:03.573161Z"
    }
   },
   "outputs": [],
   "source": [
    "#main(Om_m, z, w0, M_B, M_stel, absmag, alpha, beta, X1, C): \n",
    "Om_m = 0.315\n",
    "w0 = -1\n",
    "# M_stel = 19.3\n",
    "alpha = 0.1257\n",
    "beta = 2.644\n",
    "M_B = -19.3\n",
    "delta_m = -0.061\n",
    "SM10=10**10"
   ]
  },
  {
   "cell_type": "code",
   "execution_count": 12,
   "id": "d8dd4c85-d860-49f3-89a2-efc313757fc3",
   "metadata": {
    "execution": {
     "iopub.execute_input": "2024-08-15T21:55:03.587339Z",
     "iopub.status.busy": "2024-08-15T21:55:03.587173Z",
     "iopub.status.idle": "2024-08-15T21:55:03.981867Z",
     "shell.execute_reply": "2024-08-15T21:55:03.981350Z",
     "shell.execute_reply.started": "2024-08-15T21:55:03.587327Z"
    }
   },
   "outputs": [
    {
     "data": {
      "text/plain": [
       "Array(18.151533, dtype=float32)"
      ]
     },
     "execution_count": 12,
     "metadata": {},
     "output_type": "execute_result"
    }
   ],
   "source": [
    "main(Om_m, zs[1], w0, M_B, M_stel[1], delta_m, alpha, beta, X1[1], C[1])"
   ]
  },
  {
   "cell_type": "code",
   "execution_count": 13,
   "id": "3d20dc1a-b759-414c-a003-e18f70328ab0",
   "metadata": {
    "execution": {
     "iopub.execute_input": "2024-08-15T21:55:03.982747Z",
     "iopub.status.busy": "2024-08-15T21:55:03.982561Z",
     "iopub.status.idle": "2024-08-15T21:55:03.988689Z",
     "shell.execute_reply": "2024-08-15T21:55:03.988219Z",
     "shell.execute_reply.started": "2024-08-15T21:55:03.982734Z"
    }
   },
   "outputs": [
    {
     "data": {
      "text/plain": [
       "Array(18.151537, dtype=float32)"
      ]
     },
     "execution_count": 13,
     "metadata": {},
     "output_type": "execute_result"
    }
   ],
   "source": [
    "mB_final= 5*np.log10((D_L(zs[1],Om_m,w0))/10) + hgalaxy(M_stel[1],M_B,delta_m)-(alpha*X1[1])+(beta*C[1])\n",
    "mB_final"
   ]
  },
  {
   "cell_type": "code",
   "execution_count": 14,
   "id": "4a44c2a2-1e73-47c8-87a2-9b1a9ef95b9a",
   "metadata": {
    "execution": {
     "iopub.execute_input": "2024-08-15T21:55:03.989802Z",
     "iopub.status.busy": "2024-08-15T21:55:03.989400Z",
     "iopub.status.idle": "2024-08-15T21:55:04.043684Z",
     "shell.execute_reply": "2024-08-15T21:55:04.043131Z",
     "shell.execute_reply.started": "2024-08-15T21:55:03.989783Z"
    }
   },
   "outputs": [
    {
     "data": {
      "text/plain": [
       "Array(2.8183603e+08, dtype=float32)"
      ]
     },
     "execution_count": 14,
     "metadata": {},
     "output_type": "execute_result"
    }
   ],
   "source": [
    "z = 0.5\n",
    "D_L_value = D_L(z)\n",
    "# print(f\"D_L(z={z}) = {D_L_value}, Units = {D_L_value.unit}\")\n",
    "D_L(z)"
   ]
  },
  {
   "cell_type": "code",
   "execution_count": 15,
   "id": "3863c304-29d4-4c8b-8a2a-2642d2439bd4",
   "metadata": {
    "execution": {
     "iopub.execute_input": "2024-08-15T21:55:04.044828Z",
     "iopub.status.busy": "2024-08-15T21:55:04.044441Z",
     "iopub.status.idle": "2024-08-15T21:55:05.081122Z",
     "shell.execute_reply": "2024-08-15T21:55:05.080529Z",
     "shell.execute_reply.started": "2024-08-15T21:55:04.044811Z"
    }
   },
   "outputs": [],
   "source": [
    "df = pd.DataFrame(columns=['magnitude'])\n",
    "\n",
    "for i in range (len(zs)):\n",
    "    # D_L_value = D_L(z_arr[i])\n",
    "    # D_L_value_in_parsecs = D_L_value.to(u.pc).value\n",
    "\n",
    "    finalvals=main(Om_m, zs[i], w0, M_B, M_stel[i], delta_m, alpha, beta, X1[i], C[i])\n",
    "    \n",
    "    # # calculating the apparent magnitude\n",
    "    # mB_finalvals = 5 * np.log10((D_L_value_in_parsecs * 10**6)/ 10)\n",
    "    #mB_finalvals = 5 * np.log10(D_L_value * 10**6 / 10)\n",
    "    new_row = {'magnitude': finalvals}\n",
    "    df.loc[len(df)] = new_row\n",
    "#print(mb_arr)\n"
   ]
  },
  {
   "cell_type": "code",
   "execution_count": 16,
   "id": "585c941c-0820-4b6b-bb55-ba00c40ebdb6",
   "metadata": {
    "execution": {
     "iopub.execute_input": "2024-08-15T21:55:05.082047Z",
     "iopub.status.busy": "2024-08-15T21:55:05.081859Z",
     "iopub.status.idle": "2024-08-15T21:55:05.086602Z",
     "shell.execute_reply": "2024-08-15T21:55:05.086119Z",
     "shell.execute_reply.started": "2024-08-15T21:55:05.082032Z"
    }
   },
   "outputs": [],
   "source": [
    "columns = ['zcmb', 'mb', 'dmb', '3rdvar', 'x1', 'color']\n",
    "data_filtered = data[columns]\n",
    "data_filtered.columns = ['z', 'mb', 'delta_M', 'M_stel', 'X1', 'C']\n",
    "\n",
    "z = data_filtered['z']\n",
    "mb = data_filtered['mb']\n",
    "delta_M = data_filtered['delta_M']\n",
    "M_stel = data_filtered['M_stel']\n",
    "X1 = data_filtered['X1']\n",
    "C = data_filtered['C']\n"
   ]
  },
  {
   "attachments": {
    "a2717ce5-321a-42b1-9d52-647f5592927f.png": {
     "image/png": "[encoded data removed]"
    }
   },
   "cell_type": "markdown",
   "id": "a21856ca-89e3-4b6e-925c-4590ac7bf702",
   "metadata": {},
   "source": [
    "![image.png](attachment:a2717ce5-321a-42b1-9d52-647f5592927f.png)"
   ]
  },
  {
   "cell_type": "code",
   "execution_count": 17,
   "id": "feefc3f4-73bd-47de-a706-c711f48ad83f",
   "metadata": {
    "execution": {
     "iopub.execute_input": "2024-08-15T21:55:05.087496Z",
     "iopub.status.busy": "2024-08-15T21:55:05.087284Z",
     "iopub.status.idle": "2024-08-15T21:55:05.104619Z",
     "shell.execute_reply": "2024-08-15T21:55:05.104122Z",
     "shell.execute_reply.started": "2024-08-15T21:55:05.087482Z"
    }
   },
   "outputs": [],
   "source": [
    "import jax\n",
    "import jax.numpy as jnp\n",
    "import numpyro\n",
    "import numpyro.distributions as dist\n",
    "\n",
    "def cosmology_model(data, cov_matrix, input_data):\n",
    "    # Define priors for the cosmological parameters\n",
    "    Omega_m = numpyro.sample('Omega_m', dist.Uniform(low=0.001, high=0.6))\n",
    "    w0 = numpyro.sample('w_0', dist.Uniform(low=-1.5, high=0.0))\n",
    "    \n",
    "    # Define priors for the nuisance parameters\n",
    "    M_B = numpyro.sample('M_B', dist.Normal(loc=-19.0, scale=1.0))\n",
    "    delta_m = numpyro.sample('delta_M', dist.Normal(loc=-0.05, scale=1.0))\n",
    "    alpha = numpyro.sample('alpha', dist.Normal(loc=0.125, scale=1.0))\n",
    "    beta = numpyro.sample('beta', dist.Normal(loc=2.6, scale=1.0))\n",
    "\n",
    "    # Combine cosmological and nuisance parameters into dictionaries for easy access\n",
    "    cosmo_params = {\n",
    "        'Omega_m': Omega_m,\n",
    "        'w0': w0,\n",
    "    }\n",
    "    nuisance_params = {\n",
    "        'M_B': M_B,\n",
    "        'delta_m': delta_m,\n",
    "        'alpha': alpha,\n",
    "        'beta': beta,\n",
    "    }\n",
    "\n",
    "    # Function to compute theoretical predictions\n",
    "    def calculate_magnitude(inputs):\n",
    "        z, M_stel, X1, C = inputs\n",
    "        # Extract parameters from dictionaries\n",
    "        alpha = nuisance_params['alpha']\n",
    "        beta = nuisance_params['beta']\n",
    "        # Pass the parameters explicitly if required\n",
    "        return main(cosmo_params['Omega_m'], z, cosmo_params['w0'], nuisance_params['M_B'], M_stel, nuisance_params['delta_m'], alpha, beta, X1, C)\n",
    "    \n",
    "    # Apply the calculation across the input data\n",
    "    theoretical_values = jax.lax.map(calculate_magnitude, input_data)\n",
    "    \n",
    "    # Define the likelihood\n",
    "    likelihood = dist.MultivariateNormal(loc=theoretical_values, covariance_matrix=cov_matrix)\n",
    "    numpyro.sample(\"observed_magnitudes\", likelihood, obs=data)\n"
   ]
  },
  {
   "cell_type": "code",
   "execution_count": 18,
   "id": "9accb317-ee0d-4f1f-bcaf-6eda391882d9",
   "metadata": {
    "execution": {
     "iopub.execute_input": "2024-08-15T21:55:05.105444Z",
     "iopub.status.busy": "2024-08-15T21:55:05.105271Z",
     "iopub.status.idle": "2024-08-15T21:55:05.120890Z",
     "shell.execute_reply": "2024-08-15T21:55:05.120406Z",
     "shell.execute_reply.started": "2024-08-15T21:55:05.105432Z"
    }
   },
   "outputs": [],
   "source": [
    "def cosmo_model(data, cov_matrix, input_data):\n",
    "        # Define priors for the cosmological parameters\n",
    "    Omega_m = numpyro.sample('Omega_m', dist.Uniform(low=0.001, high=0.6))\n",
    "    w0 = numpyro.sample('w_0', dist.Uniform(low=-1.5, high=0.0))\n",
    "    \n",
    "    # Define priors for the nuisance parameters\n",
    "    abs_mag = numpyro.sample('M_B', dist.Normal(loc=-19.0, scale=1.0))\n",
    "    delta_m = numpyro.sample('delta_M', dist.Normal(loc=-0.05, scale=1.0))\n",
    "    alpha = numpyro.sample('alpha', dist.Normal(loc=0.125, scale=1.0))\n",
    "    beta = numpyro.sample('beta', dist.Normal(loc=2.6, scale=1.0))\n",
    "\n",
    "    # Combine cosmological and nuisance parameters\n",
    "    cosmo_params = (Omega_m, w0)\n",
    "    nuisance_params = (abs_mag, delta_m, alpha, beta)\n",
    "\n",
    "    # Function to compute theoretical predictions\n",
    "    def calculate_magnitude(input_data):\n",
    "        z, M_stel, X1, C = input_data\n",
    "        alpha = cosmo_params['alpha']\n",
    "        beta = cosmo_params['beta']\n",
    "    # Pass the parameters explicitly if required\n",
    "    return main(Omega_m,z,w0, abs_mag, M_stel, delta_m, alpha, beta, X1, C)\n",
    "  \n",
    "    theoretical_values = jax.lax.map(calculate_magnitude, input_data)\n",
    "    \n",
    "    # Define the likelihood\n",
    "    likelihood = dist.MultivariateNormal(loc=theoretical_values, covariance_matrix=cov_matrix)\n",
    "    numpyro.sample(\"observed_magnitudes\", likelihood, obs=data)"
   ]
  },
  {
   "cell_type": "code",
   "execution_count": 34,
   "id": "244f83ec-20c4-4fe5-9fdb-286ed2407a03",
   "metadata": {
    "execution": {
     "iopub.execute_input": "2024-08-15T22:08:15.427354Z",
     "iopub.status.busy": "2024-08-15T22:08:15.426665Z",
     "iopub.status.idle": "2024-08-15T22:08:15.430322Z",
     "shell.execute_reply": "2024-08-15T22:08:15.429571Z",
     "shell.execute_reply.started": "2024-08-15T22:08:15.427330Z"
    }
   },
   "outputs": [],
   "source": [
    "NWARMUP = 100\n",
    "NSAMPLES = 10000\n",
    "EPS = 0.1\n",
    "NCHAIN = 2\n",
    "TREE_DEPTH = 5 "
   ]
  },
  {
   "cell_type": "code",
   "execution_count": 35,
   "id": "25a5d55b-14d5-4a2e-9b77-02e08b3aa2e1",
   "metadata": {
    "execution": {
     "iopub.execute_input": "2024-08-15T22:08:15.760107Z",
     "iopub.status.busy": "2024-08-15T22:08:15.759419Z",
     "iopub.status.idle": "2024-08-15T22:08:15.763072Z",
     "shell.execute_reply": "2024-08-15T22:08:15.762392Z",
     "shell.execute_reply.started": "2024-08-15T22:08:15.760072Z"
    }
   },
   "outputs": [],
   "source": [
    "nuts_kernel = NUTS(cosmology_model, step_size=EPS, init_strategy=init_to_median, dense_mass=True, max_tree_depth=TREE_DEPTH)"
   ]
  },
  {
   "cell_type": "code",
   "execution_count": 36,
   "id": "4b17062d-93b9-41e4-95ae-3350b934d355",
   "metadata": {
    "execution": {
     "iopub.execute_input": "2024-08-15T22:08:16.317272Z",
     "iopub.status.busy": "2024-08-15T22:08:16.316539Z",
     "iopub.status.idle": "2024-08-15T22:08:16.320419Z",
     "shell.execute_reply": "2024-08-15T22:08:16.319664Z",
     "shell.execute_reply.started": "2024-08-15T22:08:16.317247Z"
    },
    "scrolled": true
   },
   "outputs": [],
   "source": [
    "import jax\n",
    "from jax import random\n",
    "from numpyro.infer import MCMC, NUTS"
   ]
  },
  {
   "cell_type": "code",
   "execution_count": 22,
   "id": "7afe0bcc-a83c-423f-b784-adbab53484bd",
   "metadata": {
    "execution": {
     "iopub.execute_input": "2024-08-15T21:55:05.163628Z",
     "iopub.status.busy": "2024-08-15T21:55:05.163459Z",
     "iopub.status.idle": "2024-08-15T21:55:05.179311Z",
     "shell.execute_reply": "2024-08-15T21:55:05.178737Z",
     "shell.execute_reply.started": "2024-08-15T21:55:05.163615Z"
    }
   },
   "outputs": [],
   "source": [
    "mcmc_nuts = MCMC(nuts_kernel, \n",
    "                 num_warmup=NWARMUP, \n",
    "                 num_samples=NSAMPLES, \n",
    "                 num_chains=NCHAIN, \n",
    "                 chain_method=\"vectorized\",\n",
    "                 progress_bar=True)"
   ]
  },
  {
   "cell_type": "code",
   "execution_count": 23,
   "id": "6c1457ac-97a5-45aa-8926-25eb90c2447a",
   "metadata": {
    "execution": {
     "iopub.execute_input": "2024-08-15T21:55:05.180122Z",
     "iopub.status.busy": "2024-08-15T21:55:05.179937Z",
     "iopub.status.idle": "2024-08-15T22:01:06.253641Z",
     "shell.execute_reply": "2024-08-15T22:01:06.252971Z",
     "shell.execute_reply.started": "2024-08-15T21:55:05.180109Z"
    }
   },
   "outputs": [
    {
     "name": "stderr",
     "output_type": "stream",
     "text": [
      "sample: 100%|██████████| 110/110 [05:56<00:00,  3.24s/it]\n"
     ]
    }
   ],
   "source": [
    "mcmc_nuts.run(jax.random.PRNGKey(253), data_filtered['mb'].values, covariance, inputs)"
   ]
  },
  {
   "cell_type": "code",
   "execution_count": 27,
   "id": "9cb829ba-0581-449d-90df-9913181a659d",
   "metadata": {
    "execution": {
     "iopub.execute_input": "2024-08-15T22:04:56.016995Z",
     "iopub.status.busy": "2024-08-15T22:04:56.016189Z",
     "iopub.status.idle": "2024-08-15T22:04:56.020231Z",
     "shell.execute_reply": "2024-08-15T22:04:56.019634Z",
     "shell.execute_reply.started": "2024-08-15T22:04:56.016967Z"
    }
   },
   "outputs": [
    {
     "name": "stdout",
     "output_type": "stream",
     "text": [
      "dict_keys(['M_B', 'Omega_m', 'alpha', 'beta', 'delta_M', 'w_0'])\n"
     ]
    }
   ],
   "source": [
    "print(samples.keys())"
   ]
  },
  {
   "cell_type": "code",
   "execution_count": 29,
   "id": "af8cc438-1e68-49fc-ba78-aab27b4f000e",
   "metadata": {
    "execution": {
     "iopub.execute_input": "2024-08-15T22:05:23.642404Z",
     "iopub.status.busy": "2024-08-15T22:05:23.641686Z",
     "iopub.status.idle": "2024-08-15T22:05:23.650263Z",
     "shell.execute_reply": "2024-08-15T22:05:23.649675Z",
     "shell.execute_reply.started": "2024-08-15T22:05:23.642380Z"
    }
   },
   "outputs": [
    {
     "name": "stdout",
     "output_type": "stream",
     "text": [
      "Removed no burn in\n"
     ]
    }
   ],
   "source": [
    "from getdist import plots, MCSamples\n",
    "from matplotlib import cm \n",
    "import getdist \n",
    "\n",
    "color1 = \"#50C878\" \n",
    "\n",
    "# settings for plotting\n",
    "settings = {'mult_bias_correction_order': 0, 'smooth_scale_2D': 0.3, 'smooth_scale_1D': 0.3}\n",
    "\n",
    "samples = mcmc_nuts.get_samples()\n",
    "\n",
    "columns = ['M_B', 'Omega_m', 'alpha', 'beta', 'delta_M', 'w_0']\n",
    "\n",
    "# convert the samples to a 2D numpy array\n",
    "mcmc_samples = np.vstack([samples[c] for c in columns]).T\n",
    "\n",
    "# number of dimensions (parameters)\n",
    "ndim = len(columns)\n",
    "\n",
    "# names and labels for the parameters\n",
    "names = [\"x%s\" % i for i in range(ndim)]\n",
    "labels = [\n",
    "    r\"$\\Omega_{m}$\",\n",
    "    r\"$w_{0}$\",\n",
    "    r\"$M$\",\n",
    "    r\"$\\delta M$\",\n",
    "    r\"$\\alpha$\",\n",
    "    r\"$\\beta$\"]\n",
    "\n",
    "# create getdist samples object\n",
    "getdist_samples = MCSamples(samples=mcmc_samples, names=names, labels=labels, ranges={'x0': (0.0, None)}, label='JLA (NUTS)', settings=settings)\n"
   ]
  },
  {
   "cell_type": "code",
   "execution_count": 30,
   "id": "fdf8d40c-25a6-47b7-8b88-6a73f67f45b8",
   "metadata": {
    "execution": {
     "iopub.execute_input": "2024-08-15T22:05:28.490055Z",
     "iopub.status.busy": "2024-08-15T22:05:28.489378Z",
     "iopub.status.idle": "2024-08-15T22:05:29.321419Z",
     "shell.execute_reply": "2024-08-15T22:05:29.320533Z",
     "shell.execute_reply.started": "2024-08-15T22:05:28.490032Z"
    }
   },
   "outputs": [
    {
     "ename": "MCSamplesError",
     "evalue": "Parameter range is <= 0: x0",
     "output_type": "error",
     "traceback": [
      "\u001b[0;31m---------------------------------------------------------------------------\u001b[0m",
      "\u001b[0;31mMCSamplesError\u001b[0m                            Traceback (most recent call last)",
      "Cell \u001b[0;32mIn[30], line 11\u001b[0m\n\u001b[1;32m      9\u001b[0m G\u001b[38;5;241m.\u001b[39msettings\u001b[38;5;241m.\u001b[39mlegend_fontsize \u001b[38;5;241m=\u001b[39m \u001b[38;5;241m15\u001b[39m\n\u001b[1;32m     10\u001b[0m getdist_samples\u001b[38;5;241m.\u001b[39mupdateSettings({\u001b[38;5;124m\"\u001b[39m\u001b[38;5;124mcontours\u001b[39m\u001b[38;5;124m\"\u001b[39m: [\u001b[38;5;241m0.68\u001b[39m, \u001b[38;5;241m0.95\u001b[39m]})\n\u001b[0;32m---> 11\u001b[0m \u001b[43mG\u001b[49m\u001b[38;5;241;43m.\u001b[39;49m\u001b[43mtriangle_plot\u001b[49m\u001b[43m(\u001b[49m\u001b[43m[\u001b[49m\u001b[43mgetdist_samples\u001b[49m\u001b[43m]\u001b[49m\u001b[43m,\u001b[49m\n\u001b[1;32m     12\u001b[0m \u001b[43m    \u001b[49m\u001b[43mfilled\u001b[49m\u001b[38;5;241;43m=\u001b[39;49m\u001b[43m[\u001b[49m\u001b[38;5;28;43;01mTrue\u001b[39;49;00m\u001b[43m]\u001b[49m\u001b[43m,\u001b[49m\n\u001b[1;32m     13\u001b[0m \u001b[43m    \u001b[49m\u001b[43mcontour_colors\u001b[49m\u001b[38;5;241;43m=\u001b[39;49m\u001b[43m[\u001b[49m\u001b[43mcolor1\u001b[49m\u001b[43m]\u001b[49m\u001b[43m,\u001b[49m\n\u001b[1;32m     14\u001b[0m \u001b[43m    \u001b[49m\u001b[43mcontour_lws\u001b[49m\u001b[38;5;241;43m=\u001b[39;49m\u001b[43m[\u001b[49m\u001b[38;5;241;43m2\u001b[39;49m\u001b[43m]\u001b[49m\u001b[43m,\u001b[49m\n\u001b[1;32m     15\u001b[0m \u001b[43m    \u001b[49m\u001b[43mcontour_ls\u001b[49m\u001b[38;5;241;43m=\u001b[39;49m\u001b[43m[\u001b[49m\u001b[38;5;124;43m\"\u001b[39;49m\u001b[38;5;124;43m-\u001b[39;49m\u001b[38;5;124;43m\"\u001b[39;49m\u001b[43m]\u001b[49m\u001b[43m,\u001b[49m\n\u001b[1;32m     16\u001b[0m \u001b[43m)\u001b[49m\n\u001b[1;32m     17\u001b[0m \u001b[38;5;66;03m# plt.savefig('triangle_plot_jla_nuts.pdf', transparent = False, bbox_inches = 'tight')\u001b[39;00m\n\u001b[1;32m     18\u001b[0m plt\u001b[38;5;241m.\u001b[39mshow()\n",
      "File \u001b[0;32m~/.local/lib/python3.11/site-packages/getdist/plots.py:2493\u001b[0m, in \u001b[0;36mGetDistPlotter.triangle_plot\u001b[0;34m(self, roots, params, legend_labels, plot_3d_with_param, filled, shaded, contour_args, contour_colors, contour_ls, contour_lws, line_args, label_order, legend_ncol, legend_loc, title_limit, upper_roots, upper_kwargs, upper_label_right, diag1d_kwargs, markers, marker_args, param_limits, **kwargs)\u001b[0m\n\u001b[1;32m   2491\u001b[0m marker \u001b[38;5;241m=\u001b[39m \u001b[38;5;28mself\u001b[39m\u001b[38;5;241m.\u001b[39m_get_marker(markers, i, param\u001b[38;5;241m.\u001b[39mname)\n\u001b[1;32m   2492\u001b[0m \u001b[38;5;28mself\u001b[39m\u001b[38;5;241m.\u001b[39m_inner_ticks(ax, \u001b[38;5;28;01mFalse\u001b[39;00m)\n\u001b[0;32m-> 2493\u001b[0m xlim \u001b[38;5;241m=\u001b[39m \u001b[38;5;28;43mself\u001b[39;49m\u001b[38;5;241;43m.\u001b[39;49m\u001b[43mplot_1d\u001b[49m\u001b[43m(\u001b[49m\u001b[43mroots1d\u001b[49m\u001b[43m,\u001b[49m\u001b[43m \u001b[49m\u001b[43mparam\u001b[49m\u001b[43m,\u001b[49m\u001b[43m \u001b[49m\u001b[43mmarker\u001b[49m\u001b[38;5;241;43m=\u001b[39;49m\u001b[43mmarker\u001b[49m\u001b[43m,\u001b[49m\u001b[43m \u001b[49m\u001b[43mdo_xlabel\u001b[49m\u001b[38;5;241;43m=\u001b[39;49m\u001b[43mi\u001b[49m\u001b[43m \u001b[49m\u001b[38;5;241;43m==\u001b[39;49m\u001b[43m \u001b[49m\u001b[43mplot_col\u001b[49m\u001b[43m \u001b[49m\u001b[38;5;241;43m-\u001b[39;49m\u001b[43m \u001b[49m\u001b[38;5;241;43m1\u001b[39;49m\u001b[43m,\u001b[49m\n\u001b[1;32m   2494\u001b[0m \u001b[43m                    \u001b[49m\u001b[43mno_label_no_numbers\u001b[49m\u001b[38;5;241;43m=\u001b[39;49m\u001b[38;5;28;43mself\u001b[39;49m\u001b[38;5;241;43m.\u001b[39;49m\u001b[43msettings\u001b[49m\u001b[38;5;241;43m.\u001b[39;49m\u001b[43mno_triangle_axis_labels\u001b[49m\u001b[43m,\u001b[49m\u001b[43m \u001b[49m\u001b[43mtitle_limit\u001b[49m\u001b[38;5;241;43m=\u001b[39;49m\u001b[43mtitle_limit\u001b[49m\u001b[43m,\u001b[49m\n\u001b[1;32m   2495\u001b[0m \u001b[43m                    \u001b[49m\u001b[43mlabel_right\u001b[49m\u001b[38;5;241;43m=\u001b[39;49m\u001b[38;5;28;43;01mTrue\u001b[39;49;00m\u001b[43m,\u001b[49m\u001b[43m \u001b[49m\u001b[43mno_zero\u001b[49m\u001b[38;5;241;43m=\u001b[39;49m\u001b[38;5;28;43;01mTrue\u001b[39;49;00m\u001b[43m,\u001b[49m\u001b[43m \u001b[49m\u001b[43mno_ylabel\u001b[49m\u001b[38;5;241;43m=\u001b[39;49m\u001b[38;5;28;43;01mTrue\u001b[39;49;00m\u001b[43m,\u001b[49m\u001b[43m \u001b[49m\u001b[43mno_ytick\u001b[49m\u001b[38;5;241;43m=\u001b[39;49m\u001b[38;5;28;43;01mTrue\u001b[39;49;00m\u001b[43m,\u001b[49m\u001b[43m \u001b[49m\u001b[43mline_args\u001b[49m\u001b[38;5;241;43m=\u001b[39;49m\u001b[43mline_args\u001b[49m\u001b[43m,\u001b[49m\n\u001b[1;32m   2496\u001b[0m \u001b[43m                    \u001b[49m\u001b[43mlims\u001b[49m\u001b[38;5;241;43m=\u001b[39;49m\u001b[43mparam_limits\u001b[49m\u001b[38;5;241;43m.\u001b[39;49m\u001b[43mget\u001b[49m\u001b[43m(\u001b[49m\u001b[43mparam\u001b[49m\u001b[38;5;241;43m.\u001b[39;49m\u001b[43mname\u001b[49m\u001b[43m)\u001b[49m\u001b[43m,\u001b[49m\u001b[43m \u001b[49m\u001b[43max\u001b[49m\u001b[38;5;241;43m=\u001b[39;49m\u001b[43max\u001b[49m\u001b[43m,\u001b[49m\u001b[43m \u001b[49m\u001b[43m_ret_range\u001b[49m\u001b[38;5;241;43m=\u001b[39;49m\u001b[38;5;28;43;01mTrue\u001b[39;49;00m\u001b[43m,\u001b[49m\u001b[43m \u001b[49m\u001b[38;5;241;43m*\u001b[39;49m\u001b[38;5;241;43m*\u001b[39;49m\u001b[43mdiag1d_kwargs\u001b[49m\u001b[43m)\u001b[49m\n\u001b[1;32m   2497\u001b[0m lims[i] \u001b[38;5;241m=\u001b[39m xlim\n\u001b[1;32m   2498\u001b[0m \u001b[38;5;28;01mif\u001b[39;00m i \u001b[38;5;241m>\u001b[39m \u001b[38;5;241m0\u001b[39m:\n",
      "File \u001b[0;32m~/.local/lib/python3.11/site-packages/getdist/plots.py:1618\u001b[0m, in \u001b[0;36mGetDistPlotter.plot_1d\u001b[0;34m(self, roots, param, marker, marker_color, label_right, title_limit, no_ylabel, no_ytick, no_zero, normalized, param_renames, ax, **kwargs)\u001b[0m\n\u001b[1;32m   1616\u001b[0m \u001b[38;5;28;01mif\u001b[39;00m \u001b[38;5;129;01mnot\u001b[39;00m root_param:\n\u001b[1;32m   1617\u001b[0m     \u001b[38;5;28;01mcontinue\u001b[39;00m\n\u001b[0;32m-> 1618\u001b[0m bounds \u001b[38;5;241m=\u001b[39m \u001b[38;5;28;43mself\u001b[39;49m\u001b[38;5;241;43m.\u001b[39;49m\u001b[43madd_1d\u001b[49m\u001b[43m(\u001b[49m\u001b[43mroot\u001b[49m\u001b[43m,\u001b[49m\u001b[43m \u001b[49m\u001b[43mroot_param\u001b[49m\u001b[43m,\u001b[49m\u001b[43m \u001b[49m\u001b[43mi\u001b[49m\u001b[43m,\u001b[49m\u001b[43m \u001b[49m\u001b[43mnormalized\u001b[49m\u001b[38;5;241;43m=\u001b[39;49m\u001b[43mnormalized\u001b[49m\u001b[43m,\u001b[49m\u001b[43m \u001b[49m\u001b[43mtitle_limit\u001b[49m\u001b[38;5;241;43m=\u001b[39;49m\u001b[43mtitle_limit\u001b[49m\u001b[43m \u001b[49m\u001b[38;5;28;43;01mif\u001b[39;49;00m\u001b[43m \u001b[49m\u001b[38;5;129;43;01mnot\u001b[39;49;00m\u001b[43m \u001b[49m\u001b[43mi\u001b[49m\u001b[43m \u001b[49m\u001b[38;5;28;43;01melse\u001b[39;49;00m\u001b[43m \u001b[49m\u001b[38;5;241;43m0\u001b[39;49m\u001b[43m,\u001b[49m\n\u001b[1;32m   1619\u001b[0m \u001b[43m                     \u001b[49m\u001b[43max\u001b[49m\u001b[38;5;241;43m=\u001b[39;49m\u001b[43max\u001b[49m\u001b[43m,\u001b[49m\u001b[43m \u001b[49m\u001b[38;5;241;43m*\u001b[39;49m\u001b[38;5;241;43m*\u001b[39;49m\u001b[43mline_args\u001b[49m\u001b[43m[\u001b[49m\u001b[43mi\u001b[49m\u001b[43m]\u001b[49m\u001b[43m)\u001b[49m\n\u001b[1;32m   1620\u001b[0m xmin, xmax \u001b[38;5;241m=\u001b[39m \u001b[38;5;28mself\u001b[39m\u001b[38;5;241m.\u001b[39m_update_limit(bounds, (xmin, xmax))\n\u001b[1;32m   1621\u001b[0m \u001b[38;5;28;01mif\u001b[39;00m bounds \u001b[38;5;129;01mis\u001b[39;00m \u001b[38;5;129;01mnot\u001b[39;00m \u001b[38;5;28;01mNone\u001b[39;00m \u001b[38;5;129;01mand\u001b[39;00m \u001b[38;5;129;01mnot\u001b[39;00m plotparam:\n",
      "File \u001b[0;32m~/.local/lib/python3.11/site-packages/getdist/plots.py:971\u001b[0m, in \u001b[0;36mGetDistPlotter.add_1d\u001b[0;34m(self, root, param, plotno, normalized, ax, title_limit, **kwargs)\u001b[0m\n\u001b[1;32m    969\u001b[0m         density\u001b[38;5;241m.\u001b[39mnormalize(by\u001b[38;5;241m=\u001b[39m\u001b[38;5;124m'\u001b[39m\u001b[38;5;124mmax\u001b[39m\u001b[38;5;124m'\u001b[39m)\n\u001b[1;32m    970\u001b[0m \u001b[38;5;28;01melse\u001b[39;00m:\n\u001b[0;32m--> 971\u001b[0m     density \u001b[38;5;241m=\u001b[39m \u001b[38;5;28;43mself\u001b[39;49m\u001b[38;5;241;43m.\u001b[39;49m\u001b[43msample_analyser\u001b[49m\u001b[38;5;241;43m.\u001b[39;49m\u001b[43mget_density\u001b[49m\u001b[43m(\u001b[49m\u001b[43mroot\u001b[49m\u001b[43m,\u001b[49m\u001b[43m \u001b[49m\u001b[43mparam\u001b[49m\u001b[43m,\u001b[49m\u001b[43m \u001b[49m\u001b[43mlikes\u001b[49m\u001b[38;5;241;43m=\u001b[39;49m\u001b[38;5;28;43mself\u001b[39;49m\u001b[38;5;241;43m.\u001b[39;49m\u001b[43msettings\u001b[49m\u001b[38;5;241;43m.\u001b[39;49m\u001b[43mplot_meanlikes\u001b[49m\u001b[43m)\u001b[49m\n\u001b[1;32m    972\u001b[0m     \u001b[38;5;28;01mif\u001b[39;00m density \u001b[38;5;129;01mis\u001b[39;00m \u001b[38;5;28;01mNone\u001b[39;00m:\n\u001b[1;32m    973\u001b[0m         \u001b[38;5;28;01mreturn\u001b[39;00m \u001b[38;5;28;01mNone\u001b[39;00m\n",
      "File \u001b[0;32m~/.local/lib/python3.11/site-packages/getdist/plots.py:586\u001b[0m, in \u001b[0;36mMCSampleAnalysis.get_density\u001b[0;34m(self, root, param, likes)\u001b[0m\n\u001b[1;32m    584\u001b[0m density \u001b[38;5;241m=\u001b[39m rootdata\u001b[38;5;241m.\u001b[39mget(key)\n\u001b[1;32m    585\u001b[0m \u001b[38;5;28;01mif\u001b[39;00m density \u001b[38;5;129;01mis\u001b[39;00m \u001b[38;5;28;01mNone\u001b[39;00m:\n\u001b[0;32m--> 586\u001b[0m     density \u001b[38;5;241m=\u001b[39m \u001b[43msamples\u001b[49m\u001b[38;5;241;43m.\u001b[39;49m\u001b[43mget1DDensityGridData\u001b[49m\u001b[43m(\u001b[49m\u001b[43mname\u001b[49m\u001b[43m,\u001b[49m\u001b[43m \u001b[49m\u001b[43mmeanlikes\u001b[49m\u001b[38;5;241;43m=\u001b[39;49m\u001b[43mlikes\u001b[49m\u001b[43m)\u001b[49m\n\u001b[1;32m    587\u001b[0m     \u001b[38;5;28;01mif\u001b[39;00m density \u001b[38;5;129;01mis\u001b[39;00m \u001b[38;5;28;01mNone\u001b[39;00m:\n\u001b[1;32m    588\u001b[0m         \u001b[38;5;28;01mreturn\u001b[39;00m \u001b[38;5;28;01mNone\u001b[39;00m\n",
      "File \u001b[0;32m~/.local/lib/python3.11/site-packages/getdist/mcsamples.py:1473\u001b[0m, in \u001b[0;36mMCSamples.get1DDensityGridData\u001b[0;34m(self, j, paramConfid, meanlikes, **kwargs)\u001b[0m\n\u001b[1;32m   1471\u001b[0m paramrange \u001b[38;5;241m=\u001b[39m par\u001b[38;5;241m.\u001b[39mrange_max \u001b[38;5;241m-\u001b[39m par\u001b[38;5;241m.\u001b[39mrange_min\n\u001b[1;32m   1472\u001b[0m \u001b[38;5;28;01mif\u001b[39;00m paramrange \u001b[38;5;241m<\u001b[39m\u001b[38;5;241m=\u001b[39m \u001b[38;5;241m0\u001b[39m:\n\u001b[0;32m-> 1473\u001b[0m     \u001b[38;5;28;01mraise\u001b[39;00m MCSamplesError(\u001b[38;5;124m'\u001b[39m\u001b[38;5;124mParameter range is <= 0: \u001b[39m\u001b[38;5;124m'\u001b[39m \u001b[38;5;241m+\u001b[39m par\u001b[38;5;241m.\u001b[39mname)\n\u001b[1;32m   1474\u001b[0m width \u001b[38;5;241m=\u001b[39m paramrange \u001b[38;5;241m/\u001b[39m (num_bins \u001b[38;5;241m-\u001b[39m \u001b[38;5;241m1\u001b[39m)\n\u001b[1;32m   1476\u001b[0m bin_indices, fine_width, binmin, binmax \u001b[38;5;241m=\u001b[39m \u001b[38;5;28mself\u001b[39m\u001b[38;5;241m.\u001b[39m_binSamples(\u001b[38;5;28mself\u001b[39m\u001b[38;5;241m.\u001b[39msamples[:, j], par, fine_bins)\n",
      "\u001b[0;31mMCSamplesError\u001b[0m: Parameter range is <= 0: x0"
     ]
    }
   ],
   "source": [
    "G = plots.getSubplotPlotter(subplot_size=1.25)\n",
    "G.settings.solid_contour_palefactor = 0.9\n",
    "G.settings.alpha_filled_add = 0.5\n",
    "G.settings.num_plot_contours = 2\n",
    "G.settings.lw_contour = 1\n",
    "G.settings.axes_fontsize = 15\n",
    "G.settings.lab_fontsize = 15\n",
    "G.settings.fontsize = 35  \n",
    "G.settings.legend_fontsize = 15\n",
    "getdist_samples.updateSettings({\"contours\": [0.68, 0.95]})\n",
    "G.triangle_plot([getdist_samples],\n",
    "    filled=[True],\n",
    "    contour_colors=[color1],\n",
    "    contour_lws=[2],\n",
    "    contour_ls=[\"-\"],\n",
    ")\n",
    "# plt.savefig('triangle_plot_jla_nuts.pdf', transparent = False, bbox_inches = 'tight')\n",
    "plt.show()"
   ]
  }
 ],
 "metadata": {
  "kernelspec": {
   "display_name": "LSST",
   "language": "python",
   "name": "lsst"
  },
  "language_info": {
   "codemirror_mode": {
    "name": "ipython",
    "version": 3
   },
   "file_extension": ".py",
   "mimetype": "text/x-python",
   "name": "python",
   "nbconvert_exporter": "python",
   "pygments_lexer": "ipython3",
   "version": "3.11.7"
  }
 },
 "nbformat": 4,
 "nbformat_minor": 5
}
