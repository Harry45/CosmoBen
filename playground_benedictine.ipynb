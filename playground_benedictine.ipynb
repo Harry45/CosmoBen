{
 "cells": [
  {
   "cell_type": "code",
   "execution_count": 1,
   "id": "39bbfc81-378e-40bf-9248-8cee6e25817f",
   "metadata": {},
   "outputs": [],
   "source": [
    "import numpy as np \n",
    "import pandas as pd\n",
    "import matplotlib.pylab as plt \n",
    "import jax \n",
    "import numpyro \n",
    "from getdist import plots, MCSamples\n",
    "import getdist\n",
    "import glob\n",
    "from astropy.io import fits\n",
    "\n",
    "plt.rc('text', usetex=True)\n",
    "plt.rc('font',**{'family':'sans-serif','serif':['Palatino']})\n",
    "figSize  = (12, 8)\n",
    "fontSize = 20"
   ]
  },
  {
   "cell_type": "markdown",
   "id": "f731e8cf-b698-4760-b29c-63e3edfcbe67",
   "metadata": {},
   "source": [
    "# Notes\n",
    "We are writing notes on [overleaf](https://www.overleaf.com/5766545661kjdgtrcsjkwc#1102fd). "
   ]
  },
  {
   "cell_type": "markdown",
   "id": "d0942776-2f3c-4c30-b345-7a3cb49037a7",
   "metadata": {},
   "source": [
    "# Data"
   ]
  },
  {
   "cell_type": "code",
   "execution_count": 2,
   "id": "d34a76ff-71de-4194-9e89-54964d394107",
   "metadata": {},
   "outputs": [],
   "source": [
    "data = pd.read_csv(\"data/jla_lcparams.txt\", sep=\" \", header=0)\n",
    "covariance = np.load('data/covariance.npz')['arr_0']"
   ]
  },
  {
   "cell_type": "code",
   "execution_count": 3,
   "id": "fb08d967-496e-4fa0-8e19-ee2f09b7e8cf",
   "metadata": {},
   "outputs": [
    {
     "name": "stdout",
     "output_type": "stream",
     "text": [
      "Shape of covariane matrix: (740, 740)\n"
     ]
    }
   ],
   "source": [
    "print(f'Shape of covariane matrix: {covariance.shape}')"
   ]
  },
  {
   "cell_type": "code",
   "execution_count": 4,
   "id": "c48c7d96-f871-473f-bf80-7235259c244c",
   "metadata": {},
   "outputs": [],
   "source": [
    "# data -> mb\n",
    "# the redshift values -> zcmb\n",
    "# log stellar mass values -> 3rdvar\n",
    "# x1 values -> x1\n",
    "# color values -> color\n",
    "\n",
    "columns = ['mb', 'zcmb', '3rdvar', 'x1', 'color']\n",
    "data_filtered = data[columns]\n",
    "data_filtered.columns = ['mb', 'redshift', 'M_stellar', 'X_1', 'C']"
   ]
  },
  {
   "cell_type": "code",
   "execution_count": 5,
   "id": "ac38508b-b7f0-4c69-8584-eafcad787c66",
   "metadata": {},
   "outputs": [
    {
     "data": {
      "text/html": [
       "<div>\n",
       "<style scoped>\n",
       "    .dataframe tbody tr th:only-of-type {\n",
       "        vertical-align: middle;\n",
       "    }\n",
       "\n",
       "    .dataframe tbody tr th {\n",
       "        vertical-align: top;\n",
       "    }\n",
       "\n",
       "    .dataframe thead th {\n",
       "        text-align: right;\n",
       "    }\n",
       "</style>\n",
       "<table border=\"1\" class=\"dataframe\">\n",
       "  <thead>\n",
       "    <tr style=\"text-align: right;\">\n",
       "      <th></th>\n",
       "      <th>mb</th>\n",
       "      <th>redshift</th>\n",
       "      <th>M_stellar</th>\n",
       "      <th>X_1</th>\n",
       "      <th>C</th>\n",
       "    </tr>\n",
       "  </thead>\n",
       "  <tbody>\n",
       "    <tr>\n",
       "      <th>0</th>\n",
       "      <td>23.001698</td>\n",
       "      <td>0.503084</td>\n",
       "      <td>9.517</td>\n",
       "      <td>1.273191</td>\n",
       "      <td>-0.012353</td>\n",
       "    </tr>\n",
       "    <tr>\n",
       "      <th>1</th>\n",
       "      <td>23.573937</td>\n",
       "      <td>0.580724</td>\n",
       "      <td>9.169</td>\n",
       "      <td>0.974346</td>\n",
       "      <td>-0.025076</td>\n",
       "    </tr>\n",
       "    <tr>\n",
       "      <th>2</th>\n",
       "      <td>22.960139</td>\n",
       "      <td>0.494795</td>\n",
       "      <td>11.580</td>\n",
       "      <td>-0.728837</td>\n",
       "      <td>-0.099683</td>\n",
       "    </tr>\n",
       "    <tr>\n",
       "      <th>3</th>\n",
       "      <td>22.398137</td>\n",
       "      <td>0.345928</td>\n",
       "      <td>10.821</td>\n",
       "      <td>-1.155110</td>\n",
       "      <td>-0.040581</td>\n",
       "    </tr>\n",
       "    <tr>\n",
       "      <th>4</th>\n",
       "      <td>24.078115</td>\n",
       "      <td>0.677662</td>\n",
       "      <td>8.647</td>\n",
       "      <td>0.618820</td>\n",
       "      <td>-0.039380</td>\n",
       "    </tr>\n",
       "  </tbody>\n",
       "</table>\n",
       "</div>"
      ],
      "text/plain": [
       "          mb  redshift  M_stellar       X_1         C\n",
       "0  23.001698  0.503084      9.517  1.273191 -0.012353\n",
       "1  23.573937  0.580724      9.169  0.974346 -0.025076\n",
       "2  22.960139  0.494795     11.580 -0.728837 -0.099683\n",
       "3  22.398137  0.345928     10.821 -1.155110 -0.040581\n",
       "4  24.078115  0.677662      8.647  0.618820 -0.039380"
      ]
     },
     "execution_count": 5,
     "metadata": {},
     "output_type": "execute_result"
    }
   ],
   "source": [
    "data_filtered.head()"
   ]
  },
  {
   "cell_type": "markdown",
   "id": "55b06c49-d69f-44c0-8ec7-21ab419f8740",
   "metadata": {},
   "source": [
    "# Theory\n",
    "We need some code here to compute the forward model (and we should be able to show an approximate theory and the data before proceeding with the next section). The cosmological and nuisance parameters are:\n",
    "\n",
    "$$\n",
    "\\theta = (\\Omega_{m},\\,w_{0},\\,M_{B},\\,\\delta M_{B},\\, \\alpha,\\, \\beta)\n",
    "$$\n",
    "\n",
    "Therefore, we need a function which takes as input these parameters and outputs the apparent magnitude (the theory)."
   ]
  },
  {
   "cell_type": "markdown",
   "id": "c35d3589-a5fb-482b-8dcf-679273cff194",
   "metadata": {},
   "source": [
    "# Inference\n",
    "We need some code here to do the inference of the parameters. There is a nice introduction to `numpyro` [here](https://dfm.io/posts/intro-to-numpyro/). We also need priors on the parameters. Let us use the following:\n",
    "\n",
    "- $p(\\Omega_{m})\\sim U[0.001, 0.6]$\n",
    "- $p(w_{0})\\sim U[-1.5, 0.0]$\n",
    "- $M_{B}\\sim \\mathcal{N}(-19.0, 1.0)$  \n",
    "- $\\delta M_{B}\\sim \\mathcal{N}(-0.05, 1.0)$\n",
    "- $\\alpha \\sim \\mathcal{N}(0.125, 1.0)$\n",
    "- $\\beta \\sim \\mathcal{N}(2.6, 1.0)$"
   ]
  },
  {
   "cell_type": "markdown",
   "id": "b7769ed6-3490-4c0d-a86f-14de71fd3305",
   "metadata": {},
   "source": [
    "# Posterior Plot and Analysis\n",
    "We need some code here to plot the results. There is a nice tutorial of how to generate beautiful plots [here](https://getdist.readthedocs.io/en/latest/plot_gallery.html)."
   ]
  },
  {
   "cell_type": "code",
   "execution_count": null,
   "id": "5facaf36-f94a-4e9b-a626-075d07e2a31c",
   "metadata": {},
   "outputs": [],
   "source": []
  }
 ],
 "metadata": {
  "kernelspec": {
   "display_name": "Python 3 (ipykernel)",
   "language": "python",
   "name": "python3"
  },
  "language_info": {
   "codemirror_mode": {
    "name": "ipython",
    "version": 3
   },
   "file_extension": ".py",
   "mimetype": "text/x-python",
   "name": "python",
   "nbconvert_exporter": "python",
   "pygments_lexer": "ipython3",
   "version": "3.9.19"
  }
 },
 "nbformat": 4,
 "nbformat_minor": 5
}
